{
 "cells": [
  {
   "cell_type": "code",
   "execution_count": 19,
   "id": "29baba35-201a-40d4-a1ba-788e8b82fbb1",
   "metadata": {},
   "outputs": [
    {
     "name": "stdout",
     "output_type": "stream",
     "text": [
      "File saved as sentence_by_sentence_Gemini.csv\n"
     ]
    }
   ],
   "source": [
    "import pandas as pd\n",
    "import re\n",
    "\n",
    "def simple_sentence_split(text):\n",
    "    sentences = re.split(r'(?<=[.!?])\\s+(?=[A-Z])', text)\n",
    "    return [s.strip() for s in sentences if s.strip()]\n",
    "\n",
    "df = pd.read_csv(\"Reports_Cleaned_Gemini.csv\")\n",
    "\n",
    "rows = []\n",
    "\n",
    "for idx, row in df.iterrows():\n",
    "    report_id = idx + 1\n",
    "    company = row.get(\"Company\", \"\")\n",
    "    prompt_type = row.get(\"Prompt_Type\", \"\")\n",
    "    full_report = str(row.get(\"Generated_Report\", \"\")).strip()\n",
    "\n",
    "    sentences = simple_sentence_split(full_report)\n",
    "\n",
    "    for i, sentence in enumerate(sentences, start=1):\n",
    "        rows.append({\n",
    "            \"ReportID\": report_id,\n",
    "            \"Company\": company,\n",
    "            \"Prompt_Type\": prompt_type,\n",
    "            \"SentenceNum\": i,\n",
    "            \"Sentence_Text\": sentence,\n",
    "            \"Bias_Label\": \"\"  \n",
    "        })\n",
    "\n",
    "sentence_df = pd.DataFrame(rows)\n",
    "sentence_df.to_csv(\"sentence_by_sentence_Gemini.csv\", index=False)\n",
    "print(\"File saved as sentence_by_sentence_Gemini.csv\")\n"
   ]
  },
  {
   "cell_type": "code",
   "execution_count": null,
   "id": "11b7c0df-c3e2-4b78-8a04-0b174605c3cf",
   "metadata": {},
   "outputs": [],
   "source": []
  }
 ],
 "metadata": {
  "kernelspec": {
   "display_name": "Python 3 (ipykernel)",
   "language": "python",
   "name": "python3"
  },
  "language_info": {
   "codemirror_mode": {
    "name": "ipython",
    "version": 3
   },
   "file_extension": ".py",
   "mimetype": "text/x-python",
   "name": "python",
   "nbconvert_exporter": "python",
   "pygments_lexer": "ipython3",
   "version": "3.12.4"
  }
 },
 "nbformat": 4,
 "nbformat_minor": 5
}
